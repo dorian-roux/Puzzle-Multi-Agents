{
 "cells": [
  {
   "attachments": {},
   "cell_type": "markdown",
   "metadata": {},
   "source": [
    "<h2 align=\"center\">Puzzle - Interaction Multi-Agents</h2>"
   ]
  },
  {
   "attachments": {},
   "cell_type": "markdown",
   "metadata": {},
   "source": [
    "#### Libraries / System Path\n"
   ]
  },
  {
   "cell_type": "code",
   "execution_count": 1,
   "metadata": {},
   "outputs": [],
   "source": [
    "# Import System Paths\n",
    "import sys"
   ]
  },
  {
   "cell_type": "code",
   "execution_count": 2,
   "metadata": {},
   "outputs": [],
   "source": [
    "import numpy as np\n",
    "import matplotlib.pyplot as plt\n",
    "import os\n",
    "import random\n",
    "from threading import Thread\n",
    "from threading import Semaphore\n",
    "\n",
    "\n",
    "from src.color_print import ColorPrint as CP"
   ]
  },
  {
   "cell_type": "code",
   "execution_count": 3,
   "metadata": {},
   "outputs": [],
   "source": [
    "class Agent(Thread):\n",
    "    isMoving = Semaphore(1)\n",
    "\n",
    "    # Position of an agent\n",
    "    agentDict = {}\n",
    "\n",
    "    nbRow = None\n",
    "    nbCol = None\n",
    "\n",
    "    def showGrid():\n",
    "        frow, fcol = 2, 2\n",
    "        print(\" \")\n",
    "        for row in range(Agent.nbRow + 1):\n",
    "            for col in range(Agent.nbCol + 1):\n",
    "                if (row, col) in Agent.agentDict:\n",
    "                    if (frow==row) and (fcol==col):\n",
    "                        CP.print_pass('X', end=\" \")\n",
    "                        continue\n",
    "                    CP.print_fail('X', end=\" \")\n",
    "                    continue\n",
    "                \n",
    "                CP.print_bold(\".\", end=\" \")\n",
    "            print()\n",
    "        print(\" \")\n",
    "        \n",
    "    def __init__(self, init, target) -> None:\n",
    "        super().__init__()\n",
    "        self.running = True\n",
    "        # initial position\n",
    "        self.init = init\n",
    "        self.target = target\n",
    "        Agent.agentDict[init] = self\n",
    "\n",
    "    def run(self) -> None:\n",
    "        while self.running == True:\n",
    "            self.communicate()\n",
    "            self.resonate()\n",
    "            self.decide()\n",
    "            self.act()\n",
    "\n",
    "    def communicate(self):\n",
    "        pass\n",
    "    \n",
    "    def resonate(self):\n",
    "        pass\n",
    "    \n",
    "    def decide(self):\n",
    "        pass\n",
    "\n",
    "    def act(self):\n",
    "        pass\n",
    "    \n",
    "    def move(self, direction):\n",
    "        # print(\"Agent: \", self.init, \" is moving to \", direction)\n",
    "        Agent.isMoving.acquire()\n",
    "        if direction in Agent.agentDict:\n",
    "            Agent.isMoving.release()\n",
    "            return False\n",
    "        else:\n",
    "            Agent.agentDict.pop(self.init)\n",
    "            self.init = direction\n",
    "            Agent.agentDict[self.init] = self\n",
    "            Agent.isMoving.release()\n",
    "            return True"
   ]
  },
  {
   "cell_type": "code",
   "execution_count": 4,
   "metadata": {},
   "outputs": [],
   "source": [
    "Agent.nbRow = 5\n",
    "Agent.nbCol = 5\n",
    "Agent.agendDict = {}\n",
    "\n",
    "allPosition = [(r,c) for r in range(Agent.nbRow+1) for c in range(Agent.nbCol+1)]\n",
    "allTarget = allPosition.copy()\n",
    "\n",
    "NUMBER_AGENT = 5\n",
    "MAX_AGENT = Agent.nbRow * Agent.nbCol\n",
    "if NUMBER_AGENT > MAX_AGENT:\n",
    "    NUMBER_AGENT = MAX_AGENT\n",
    "    \n",
    "for _ in range(NUMBER_AGENT):\n",
    "    init = random.choice(allPosition)\n",
    "    allPosition.remove(init)\n",
    "\n",
    "    target = random.choice(allTarget)\n",
    "    allTarget.remove(target)\n",
    "\n",
    "    agent = Agent(init, target)\n",
    "\n",
    "AgentList = list(Agent.agentDict.values())\n",
    "InitList = list(Agent.agentDict.keys())\n",
    "\n",
    "for agent in AgentList:\n",
    "    agent.start()"
   ]
  },
  {
   "cell_type": "code",
   "execution_count": 5,
   "metadata": {},
   "outputs": [
    {
     "data": {
      "text/plain": [
       "([<Agent(Thread-4, started 140112874698304)>,\n",
       "  <Agent(Thread-5, started 140112866305600)>,\n",
       "  <Agent(Thread-6, started 140112857912896)>,\n",
       "  <Agent(Thread-7, started 140112849520192)>,\n",
       "  <Agent(Thread-8, started 140112637720128)>],\n",
       " [(5, 2), (5, 1), (5, 4), (0, 1), (3, 5)])"
      ]
     },
     "execution_count": 5,
     "metadata": {},
     "output_type": "execute_result"
    }
   ],
   "source": [
    "AgentList, InitList"
   ]
  },
  {
   "cell_type": "code",
   "execution_count": 6,
   "metadata": {},
   "outputs": [
    {
     "name": "stdout",
     "output_type": "stream",
     "text": [
      " \n",
      "\u001b[1;37m.\u001b[0m \u001b[1;31mX\u001b[0m \u001b[1;37m.\u001b[0m \u001b[1;37m.\u001b[0m \u001b[1;37m.\u001b[0m \u001b[1;37m.\u001b[0m \n",
      "\u001b[1;37m.\u001b[0m \u001b[1;37m.\u001b[0m \u001b[1;37m.\u001b[0m \u001b[1;37m.\u001b[0m \u001b[1;37m.\u001b[0m \u001b[1;37m.\u001b[0m \n",
      "\u001b[1;37m.\u001b[0m \u001b[1;37m.\u001b[0m \u001b[1;37m.\u001b[0m \u001b[1;37m.\u001b[0m \u001b[1;37m.\u001b[0m \u001b[1;37m.\u001b[0m \n",
      "\u001b[1;37m.\u001b[0m \u001b[1;37m.\u001b[0m \u001b[1;37m.\u001b[0m \u001b[1;37m.\u001b[0m \u001b[1;37m.\u001b[0m \u001b[1;31mX\u001b[0m \n",
      "\u001b[1;37m.\u001b[0m \u001b[1;37m.\u001b[0m \u001b[1;37m.\u001b[0m \u001b[1;37m.\u001b[0m \u001b[1;37m.\u001b[0m \u001b[1;37m.\u001b[0m \n",
      "\u001b[1;37m.\u001b[0m \u001b[1;31mX\u001b[0m \u001b[1;31mX\u001b[0m \u001b[1;37m.\u001b[0m \u001b[1;31mX\u001b[0m \u001b[1;37m.\u001b[0m \n",
      " \n"
     ]
    }
   ],
   "source": [
    "Agent.showGrid()"
   ]
  }
 ],
 "metadata": {
  "kernelspec": {
   "display_name": "env",
   "language": "python",
   "name": "python3"
  },
  "language_info": {
   "codemirror_mode": {
    "name": "ipython",
    "version": 3
   },
   "file_extension": ".py",
   "mimetype": "text/x-python",
   "name": "python",
   "nbconvert_exporter": "python",
   "pygments_lexer": "ipython3",
   "version": "3.8.15"
  },
  "orig_nbformat": 4
 },
 "nbformat": 4,
 "nbformat_minor": 2
}
